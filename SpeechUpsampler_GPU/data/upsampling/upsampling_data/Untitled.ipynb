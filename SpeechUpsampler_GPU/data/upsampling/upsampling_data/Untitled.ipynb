{
 "cells": [
  {
   "cell_type": "code",
   "execution_count": 32,
   "metadata": {},
   "outputs": [],
   "source": [
    "import scipy.io.wavfile as wav\n",
    "import path\n",
    "import os\n",
    "import tensorflow as tf\n",
    "import numpy as np\n",
    "import librosa\n",
    "import pandas as pd"
   ]
  },
  {
   "cell_type": "code",
   "execution_count": 31,
   "metadata": {},
   "outputs": [
    {
     "name": "stdout",
     "output_type": "stream",
     "text": [
      "<class 'tensorflow.python.framework.ops.Tensor'>\n",
      "[7, 16000, 1]\n",
      "<class 'tensorflow.python.framework.ops.Tensor'>\n",
      "[13, 16000, 1]\n",
      "<class 'tensorflow.python.framework.ops.Tensor'>\n",
      "[5, 16000, 1]\n",
      "<class 'tensorflow.python.framework.ops.Tensor'>\n",
      "[6, 16000, 1]\n",
      "<class 'tensorflow.python.framework.ops.Tensor'>\n",
      "[7, 16000, 1]\n",
      "<class 'tensorflow.python.framework.ops.Tensor'>\n",
      "[7, 16000, 1]\n",
      "<class 'tensorflow.python.framework.ops.Tensor'>\n",
      "[2, 16000, 1]\n",
      "<class 'tensorflow.python.framework.ops.Tensor'>\n",
      "[6, 16000, 1]\n",
      "<class 'tensorflow.python.framework.ops.Tensor'>\n",
      "[6, 16000, 1]\n",
      "<class 'tensorflow.python.framework.ops.Tensor'>\n",
      "[15, 16000, 1]\n",
      "<class 'tensorflow.python.framework.ops.Tensor'>\n",
      "[6, 16000, 1]\n"
     ]
    }
   ],
   "source": [
    "pd\n",
    "\n",
    "upsampling_factor = 2\n",
    "\n",
    "filelist = os.listdir()\n",
    "for file in filelist:\n",
    "    if file.endswith('wav'):\n",
    "        br, array = wav.read(file)\n",
    "        array = librosa.core.resample(array.astype(np.float32), br, br*upsampling_factor)\n",
    "        array = np.pad(array,(0,16000-len(array)%16000), 'constant').reshape(-1,16000,1)\n",
    "        array_tf = tf.convert_to_tensor(array)\n",
    "        return array_tf\n",
    "#         print(type(array_tf))\n",
    "#         print(array_tf.get_shape().as_list())\n",
    "        "
   ]
  },
  {
   "cell_type": "code",
   "execution_count": 16,
   "metadata": {},
   "outputs": [
    {
     "name": "stdout",
     "output_type": "stream",
     "text": [
      "['upsampling.csv', '1028-20100710-hne-ar-01-gsm-bp.wav', '1006-135212-0052-gsm-bp.wav', '1028-20100710-hne-ar-06-gsm-bp.wav', '1028-20100710-hne-ar-02-gsm-bp.wav', '1028-20100710-hne-ar-05-gsm-bp.wav', '1028-20100710-hne-ar-03-gsm-bp.wav', 'Untitled.ipynb', '102-129232-0146-gsm-bp.wav', '.ipynb_checkpoints', '1028-20100710-hne-ar-04-gsm-bp.wav', '1028-20100710-hne-rp-29-gsm-bp.wav', '1012-133424-0000-gsm-bp.wav', '1028-20100710-hne-ar-07-gsm-bp.wav']\n"
     ]
    }
   ],
   "source": [
    "print(filelist)"
   ]
  },
  {
   "cell_type": "code",
   "execution_count": null,
   "metadata": {},
   "outputs": [],
   "source": []
  }
 ],
 "metadata": {
  "kernelspec": {
   "display_name": "Python 3",
   "language": "python",
   "name": "python3"
  },
  "language_info": {
   "codemirror_mode": {
    "name": "ipython",
    "version": 3
   },
   "file_extension": ".py",
   "mimetype": "text/x-python",
   "name": "python",
   "nbconvert_exporter": "python",
   "pygments_lexer": "ipython3",
   "version": "3.6.4"
  }
 },
 "nbformat": 4,
 "nbformat_minor": 2
}
